{
  "nbformat": 4,
  "nbformat_minor": 0,
  "metadata": {
    "kernelspec": {
      "display_name": "Python 3",
      "language": "python",
      "name": "python3"
    },
    "language_info": {
      "codemirror_mode": {
        "name": "ipython",
        "version": 3
      },
      "file_extension": ".py",
      "mimetype": "text/x-python",
      "name": "python",
      "nbconvert_exporter": "python",
      "pygments_lexer": "ipython3",
      "version": "3.6.3"
    },
    "colab": {
      "name": "Bank loan risk analysis.ipynb",
      "provenance": [],
      "collapsed_sections": []
    }
  },
  "cells": [
    {
      "cell_type": "markdown",
      "metadata": {
        "id": "M3-yrA_bsIC6",
        "colab_type": "text"
      },
      "source": [
        "### Bank loan risk analysis "
      ]
    },
    {
      "cell_type": "code",
      "metadata": {
        "id": "4L2MJZRzsIC8",
        "colab_type": "code",
        "colab": {}
      },
      "source": [
        "import numpy as np\n",
        "import pandas as pd \n",
        "from sklearn.preprocessing import LabelEncoder\n",
        "import os\n",
        "import warnings\n",
        "warnings.filterwarnings('ignore')\n",
        "import matplotlib.pyplot as plt\n",
        "import seaborn as sns"
      ],
      "execution_count": 0,
      "outputs": []
    },
    {
      "cell_type": "code",
      "metadata": {
        "id": "hMYUsApisP3c",
        "colab_type": "code",
        "colab": {}
      },
      "source": [
        "from google.colab import files\n",
        "uploaded = files.upload()"
      ],
      "execution_count": 0,
      "outputs": []
    },
    {
      "cell_type": "code",
      "metadata": {
        "id": "c2IXX-ZdsU7x",
        "colab_type": "code",
        "colab": {}
      },
      "source": [
        "import io\n",
        "app_train = pd.read_csv(io.BytesIO(uploaded['application_train.csv']))\n",
        "app_train.head()"
      ],
      "execution_count": 0,
      "outputs": []
    },
    {
      "cell_type": "code",
      "metadata": {
        "id": "BQbLAzTCsIDD",
        "colab_type": "code",
        "colab": {}
      },
      "source": [
        "app_train.shape"
      ],
      "execution_count": 0,
      "outputs": []
    },
    {
      "cell_type": "code",
      "metadata": {
        "id": "vfejIPNFsIDG",
        "colab_type": "code",
        "colab": {}
      },
      "source": [
        "app_train.info()"
      ],
      "execution_count": 0,
      "outputs": []
    },
    {
      "cell_type": "markdown",
      "metadata": {
        "id": "-10ky-4psIDJ",
        "colab_type": "text"
      },
      "source": [
        "#### Explore the missing values"
      ]
    },
    {
      "cell_type": "code",
      "metadata": {
        "id": "NrXgeBufsIDK",
        "colab_type": "code",
        "colab": {}
      },
      "source": [
        "def missing_value_table(df):\n",
        "    #calculate all the null values\n",
        "    mis_val = df.isnull().sum()\n",
        "    # calculate the percentage\n",
        "    mis_val_percent = 100*df.isnull().sum()/len(df)\n",
        "    #combine\n",
        "    mis_val_table = pd.concat([mis_val,mis_val_percent],axis=1)\n",
        "    mis_val_rename = mis_val_table.rename(columns = {0:'Missing valyes',1:'% of total values'})\n",
        "    #keep only the column with missing values and sort in descending order\n",
        "    mis_val_rename = mis_val_rename[mis_val_rename.iloc[:,1]!=0].sort_values('% of total values',ascending=False)\n",
        "    return mis_val_rename\n"
      ],
      "execution_count": 0,
      "outputs": []
    },
    {
      "cell_type": "code",
      "metadata": {
        "id": "q8fZL1IZsIDO",
        "colab_type": "code",
        "colab": {}
      },
      "source": [
        "missing_value_table(app_train)[:10]"
      ],
      "execution_count": 0,
      "outputs": []
    },
    {
      "cell_type": "markdown",
      "metadata": {
        "id": "6pDgCx2UsIDR",
        "colab_type": "text"
      },
      "source": [
        "### Deal with object type"
      ]
    },
    {
      "cell_type": "code",
      "metadata": {
        "id": "Xql-g61msIDR",
        "colab_type": "code",
        "colab": {}
      },
      "source": [
        "app_train.dtypes.value_counts()"
      ],
      "execution_count": 0,
      "outputs": []
    },
    {
      "cell_type": "code",
      "metadata": {
        "id": "uZ1uPjjnsIDV",
        "colab_type": "code",
        "colab": {}
      },
      "source": [
        "app_train.select_dtypes('object').apply(pd.Series.nunique,axis=0)"
      ],
      "execution_count": 0,
      "outputs": []
    },
    {
      "cell_type": "code",
      "metadata": {
        "id": "d5AVpSzwsIDZ",
        "colab_type": "code",
        "colab": {}
      },
      "source": [
        "app_train = pd.get_dummies(app_train)\n",
        "app_train.shape"
      ],
      "execution_count": 0,
      "outputs": []
    },
    {
      "cell_type": "markdown",
      "metadata": {
        "id": "_kTA-hKvsIDc",
        "colab_type": "text"
      },
      "source": [
        "### Data EDA "
      ]
    },
    {
      "cell_type": "code",
      "metadata": {
        "id": "FP2R_Dn9sIDc",
        "colab_type": "code",
        "colab": {}
      },
      "source": [
        "train_labels = app_train['TARGET']\n",
        "app_train['DAYS_BIRTH'][:5]"
      ],
      "execution_count": 0,
      "outputs": []
    },
    {
      "cell_type": "code",
      "metadata": {
        "id": "-zF9zihBsIDf",
        "colab_type": "code",
        "colab": {}
      },
      "source": [
        "# transfer the day birth to year\n",
        "(app_train['DAYS_BIRTH']/-365).describe()"
      ],
      "execution_count": 0,
      "outputs": []
    },
    {
      "cell_type": "code",
      "metadata": {
        "id": "OrHNxmTmsIDi",
        "colab_type": "code",
        "colab": {}
      },
      "source": [
        "(app_train['DAYS_EMPLOYED']).describe()"
      ],
      "execution_count": 0,
      "outputs": []
    },
    {
      "cell_type": "code",
      "metadata": {
        "id": "YRQr_rASsIDm",
        "colab_type": "code",
        "colab": {}
      },
      "source": [
        "# check the feature distribution by ploting histgram \n",
        "ax = app_train['DAYS_EMPLOYED'].plot.hist()\n",
        "ax.set_xlabel(\"Days employed\")\n",
        "plt.show()"
      ],
      "execution_count": 0,
      "outputs": []
    },
    {
      "cell_type": "code",
      "metadata": {
        "id": "5tPw9UoTsIDo",
        "colab_type": "code",
        "colab": {}
      },
      "source": [
        "# remove outliers\n",
        "app_train['DAYS_EMPLOYED_ANOM'] = app_train['DAYS_EMPLOYED'] == 365243\n",
        "app_train['DAYS_EMPLOYED'].replace({365243:np.nan},inplace=True)\n",
        "ax = app_train['DAYS_EMPLOYED'].plot.hist()\n",
        "ax.set_xlabel(\"Days employed\")\n",
        "plt.show()"
      ],
      "execution_count": 0,
      "outputs": []
    },
    {
      "cell_type": "code",
      "metadata": {
        "id": "vbimGXLasIDr",
        "colab_type": "code",
        "colab": {}
      },
      "source": [
        "# check feature correlations with target\n",
        "correlations = app_train.corr()['TARGET'].sort_values()\n",
        "correlations.head()"
      ],
      "execution_count": 0,
      "outputs": []
    },
    {
      "cell_type": "code",
      "metadata": {
        "id": "m_xA-6iUsIDu",
        "colab_type": "code",
        "colab": {}
      },
      "source": [
        "correlations.tail()"
      ],
      "execution_count": 0,
      "outputs": []
    },
    {
      "cell_type": "code",
      "metadata": {
        "id": "EOTE2ZxysIDx",
        "colab_type": "code",
        "colab": {}
      },
      "source": [
        "# age has a large correlation with the target\n",
        "app_train['DAYS_BIRTH'] = abs(app_train['DAYS_BIRTH'])\n",
        "app_train['TARGET'].corr(app_train['DAYS_BIRTH'])"
      ],
      "execution_count": 0,
      "outputs": []
    },
    {
      "cell_type": "code",
      "metadata": {
        "id": "jhREZi6AsID1",
        "colab_type": "code",
        "colab": {}
      },
      "source": [
        "# plot histogram on age feature\n",
        "plt.style.use('fivethirtyeight')\n",
        "plt.hist(app_train['DAYS_BIRTH']/365,edgecolor='k',bins=25)\n",
        "plt.xlabel(\"Age\")\n",
        "plt.ylabel(\"Count\")\n",
        "plt.show()"
      ],
      "execution_count": 0,
      "outputs": []
    },
    {
      "cell_type": "code",
      "metadata": {
        "id": "Nv134-53sID5",
        "colab_type": "code",
        "colab": {}
      },
      "source": [
        "plt.figure(figsize=(10,8))\n",
        "#KDEPLOT kernal density estimation\n",
        "sns.kdeplot(app_train.loc[app_train['TARGET']==0,'DAYS_BIRTH']/365,label='target==0')\n",
        "sns.kdeplot(app_train.loc[app_train['TARGET']==1,'DAYS_BIRTH']/365,label='target==1')\n",
        "plt.xlabel(\"Age\")\n",
        "plt.ylabel(\"Distribution\")\n",
        "plt.show()"
      ],
      "execution_count": 0,
      "outputs": []
    },
    {
      "cell_type": "code",
      "metadata": {
        "id": "47Lgf1TqsID_",
        "colab_type": "code",
        "colab": {}
      },
      "source": [
        "# bin the age fat\n",
        "age_data = app_train[['TARGET','DAYS_BIRTH']]\n",
        "age_data['YEARS_BIRTH'] = age_data['DAYS_BIRTH']/365\n",
        "\n",
        "age_data['YEARS_BINNED'] = pd.cut(age_data['YEARS_BIRTH'],bins=np.linspace(20,70,num=11))\n",
        "age_data.head()"
      ],
      "execution_count": 0,
      "outputs": []
    },
    {
      "cell_type": "code",
      "metadata": {
        "id": "HdxQ-ItusIED",
        "colab_type": "code",
        "colab": {}
      },
      "source": [
        "age_groups = age_data.groupby('YEARS_BINNED').mean()\n",
        "age_groups"
      ],
      "execution_count": 0,
      "outputs": []
    },
    {
      "cell_type": "code",
      "metadata": {
        "id": "RmpCpgEssIEF",
        "colab_type": "code",
        "colab": {}
      },
      "source": [
        "# plot loan default rate for each age group\n",
        "plt.bar(age_groups.index.astype(str),100*age_groups['TARGET'])\n",
        "plt.xticks(rotation=75)\n",
        "plt.xlabel(\"age group\")\n",
        "plt.ylabel(\"default rate\")\n",
        "plt.show()"
      ],
      "execution_count": 0,
      "outputs": []
    },
    {
      "cell_type": "code",
      "metadata": {
        "id": "9EA0tczUsIEL",
        "colab_type": "code",
        "colab": {}
      },
      "source": [
        "# explore the \"ext_sources\"\n",
        "ext_data = app_train[['TARGET','EXT_SOURCE_1','EXT_SOURCE_2','EXT_SOURCE_3','DAYS_BIRTH']]\n",
        "ext_data_corrs = ext_data.corr()\n",
        "ext_data_corrs"
      ],
      "execution_count": 0,
      "outputs": []
    },
    {
      "cell_type": "code",
      "metadata": {
        "id": "TtJ4h-BcsIER",
        "colab_type": "code",
        "colab": {}
      },
      "source": [
        "# plot correlation heatmap\n",
        "plt.figure(figsize=(10,8))\n",
        "sns.heatmap(ext_data_corrs,cmap = plt.cm.RdYlBu_r,annot=True)\n",
        "plt.show()"
      ],
      "execution_count": 0,
      "outputs": []
    },
    {
      "cell_type": "code",
      "metadata": {
        "id": "0uar6RXGsIEV",
        "colab_type": "code",
        "colab": {}
      },
      "source": [
        "plt.figure(figsize=(10,10))\n",
        "#kdeplot\n",
        "for i,source in enumerate(['EXT_SOURCE_3','EXT_SOURCE_2','EXT_SOURCE_1']):\n",
        "    plt.subplot(3,1,i+1)\n",
        "    sns.kdeplot(app_train.loc[app_train['TARGET']==0,source],label='target==0')\n",
        "    sns.kdeplot(app_train.loc[app_train['TARGET']==1,source],label='target==1')\n",
        "    plt.title('Distribution of %s' % source)\n",
        "plt.tight_layout(h_pad=2.5)\n",
        "plt.show()"
      ],
      "execution_count": 0,
      "outputs": []
    },
    {
      "cell_type": "markdown",
      "metadata": {
        "id": "O2h0JdnnsIE3",
        "colab_type": "text"
      },
      "source": [
        "### Data Preprocessing"
      ]
    },
    {
      "cell_type": "code",
      "metadata": {
        "id": "0zJTBVZSsIE4",
        "colab_type": "code",
        "colab": {}
      },
      "source": [
        "from sklearn.preprocessing import StandardScaler\n",
        "from sklearn.model_selection import train_test_split\n",
        "label = app_train['TARGET']\n",
        "train = app_train.drop(columns = ['TARGET'])\n",
        "x_train,x_test,y_train,y_test= train_test_split(train,label,test_size = 0.2,random_state = 0)\n",
        "features = list(train.columns)\n",
        "\n",
        "imputer = Imputer(strategy='median')\n",
        "std = StandardScaler()\n",
        "# impute missing values\n",
        "imputer.fit(x_train)\n",
        "x_train = imputer.transform(x_train)\n",
        "x_test = imputer.transform(x_test)\n",
        "# data standardization\n",
        "std.fit(x_train)\n",
        "x_train = std.transform(x_train)\n",
        "x_test = std.transform(x_test)"
      ],
      "execution_count": 0,
      "outputs": []
    },
    {
      "cell_type": "code",
      "metadata": {
        "id": "SOthItpsu2Rw",
        "colab_type": "code",
        "colab": {}
      },
      "source": [
        "print(\"Before OverSampling, counts of label '1': {}\".format(sum(y_train==1)))\n",
        "print(\"Before OverSampling, counts of label '0': {}\".format(sum(y_train==0)))\n",
        "print(\"The ratio between label '0' and label '1' is: {} \".format(sum(y_train==0)/sum(y_train==1)) )"
      ],
      "execution_count": 0,
      "outputs": []
    },
    {
      "cell_type": "markdown",
      "metadata": {
        "id": "EDWf2xiesIE8",
        "colab_type": "text"
      },
      "source": [
        "### Baseline model: Logistic regression"
      ]
    },
    {
      "cell_type": "code",
      "metadata": {
        "id": "NIQ8yknFsIE9",
        "colab_type": "code",
        "colab": {}
      },
      "source": [
        "from sklearn.linear_model import LogisticRegression\n",
        "log_reg = LogisticRegression(C=0.0001)\n",
        "log_reg.fit(x_train,y_train)"
      ],
      "execution_count": 0,
      "outputs": []
    },
    {
      "cell_type": "markdown",
      "metadata": {
        "id": "8dVT9_zGsIE_",
        "colab_type": "text"
      },
      "source": [
        "### Predict test result"
      ]
    },
    {
      "cell_type": "code",
      "metadata": {
        "id": "wGuzNyfXsIFA",
        "colab_type": "code",
        "colab": {}
      },
      "source": [
        "predictions = log_reg.predict_proba(x_test)[:,1]"
      ],
      "execution_count": 0,
      "outputs": []
    },
    {
      "cell_type": "code",
      "metadata": {
        "id": "O3AJmWcksIFJ",
        "colab_type": "code",
        "colab": {}
      },
      "source": [
        "from sklearn.metrics import roc_auc_score\n",
        "test_auc = roc_auc_score(y_test,predictions)\n",
        "test_auc"
      ],
      "execution_count": 0,
      "outputs": []
    },
    {
      "cell_type": "markdown",
      "metadata": {
        "id": "kf6ew6ObsIFP",
        "colab_type": "text"
      },
      "source": [
        "### Random Forest"
      ]
    },
    {
      "cell_type": "code",
      "metadata": {
        "id": "FwujjmTSsIFQ",
        "colab_type": "code",
        "colab": {}
      },
      "source": [
        "from sklearn.ensemble import RandomForestClassifier\n",
        "random_forest = RandomForestClassifier(n_estimators=100,random_state=10,n_jobs=-1)\n",
        "random_forest.fit(x_train,y_train)"
      ],
      "execution_count": 0,
      "outputs": []
    },
    {
      "cell_type": "code",
      "metadata": {
        "id": "3Bay98Y6sIFU",
        "colab_type": "code",
        "colab": {}
      },
      "source": [
        "predictions = random_forest.predict_proba(test)[:,1]"
      ],
      "execution_count": 0,
      "outputs": []
    },
    {
      "cell_type": "code",
      "metadata": {
        "id": "aFaQGAcdsIFY",
        "colab_type": "code",
        "colab": {}
      },
      "source": [
        "test_auc = roc_auc_score(y_test,predictions)\n",
        "test_auc"
      ],
      "execution_count": 0,
      "outputs": []
    },
    {
      "cell_type": "markdown",
      "metadata": {
        "id": "OET8ynl6Q4aB",
        "colab_type": "text"
      },
      "source": [
        "### Light GBM "
      ]
    },
    {
      "cell_type": "code",
      "metadata": {
        "id": "gzew7JcPQ1he",
        "colab_type": "code",
        "colab": {}
      },
      "source": [
        "import lightgbm as lgb\n",
        "model = lgb.LGBMClassifier(n_estimators=10000, objective = 'binary', \n",
        "                                   class_weight = 'balanced', learning_rate = 0.05, \n",
        "                                   reg_alpha = 0.1, reg_lambda = 0.1, \n",
        "                                   subsample = 0.8, n_jobs = -1, random_state = 50)\n",
        "\n",
        "model.fit(x_train, y_train, eval_metric = 'auc',\n",
        "          eval_set = [(x_test, y_test), (x_train, y_train)],\n",
        "          eval_names = ['x_test', 'x_train'],\n",
        "          early_stopping_rounds = 100, verbose = 200)"
      ],
      "execution_count": 0,
      "outputs": []
    },
    {
      "cell_type": "markdown",
      "metadata": {
        "id": "hH3C1HyOQu_S",
        "colab_type": "text"
      },
      "source": [
        "### Try to over-sample the imbalanced data set using SMOTE"
      ]
    },
    {
      "cell_type": "code",
      "metadata": {
        "id": "Opz7pW0PQrQY",
        "colab_type": "code",
        "colab": {}
      },
      "source": [
        "from imblearn.over_sampling import SMOTE\n",
        "sm = SMOTE(random_state=2)\n",
        "X_train_res, y_train_res = sm.fit_sample(x_train, y_train.ravel())\n",
        "\n",
        "print(\"After OverSampling, counts of label '1': {}\".format(sum(y_train_res==1)))\n",
        "print(\"After OverSampling, counts of label '0': {}\".format(sum(y_train_res==0)))"
      ],
      "execution_count": 0,
      "outputs": []
    },
    {
      "cell_type": "markdown",
      "metadata": {
        "id": "dTQPONSJenGw",
        "colab_type": "text"
      },
      "source": [
        "### Apply ML models again for balanced data"
      ]
    },
    {
      "cell_type": "code",
      "metadata": {
        "id": "ZZX0uuoIemmC",
        "colab_type": "code",
        "colab": {}
      },
      "source": [
        "# logistic regression\n",
        "log_reg.fit(X_train_res,y_train_res)\n",
        "predictions = log_reg.predict_proba(x_test)[:,1]\n",
        "test_auc = roc_auc_score(y_test,predictions)\n",
        "test_auc"
      ],
      "execution_count": 0,
      "outputs": []
    },
    {
      "cell_type": "code",
      "metadata": {
        "id": "FOwx8-AlfRMz",
        "colab_type": "code",
        "colab": {}
      },
      "source": [
        "# Random Forest\n",
        "random_forest.fit(X_train_res,y_train_res)\n",
        "predictions = random_forest.predict_proba(x_test)[:,1]\n",
        "test_auc = roc_auc_score(y_test,predictions)\n",
        "test_auc"
      ],
      "execution_count": 0,
      "outputs": []
    },
    {
      "cell_type": "code",
      "metadata": {
        "id": "l6yubWk-lMue",
        "colab_type": "code",
        "colab": {}
      },
      "source": [
        "model.fit(x_train, y_train, eval_metric = 'auc',\n",
        "          eval_set = [(x_test, y_test), (X_train_res, y_train_res)],\n",
        "          eval_names = ['x_test', 'x_train'],\n",
        "          early_stopping_rounds = 100, verbose = 200)"
      ],
      "execution_count": 0,
      "outputs": []
    },
    {
      "cell_type": "code",
      "metadata": {
        "id": "DHo39RKWsIF0",
        "colab_type": "code",
        "colab": {}
      },
      "source": [
        ""
      ],
      "execution_count": 0,
      "outputs": []
    }
  ]
}
